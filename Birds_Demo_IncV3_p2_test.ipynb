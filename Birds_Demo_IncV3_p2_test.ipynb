{
 "cells": [
  {
   "cell_type": "code",
   "execution_count": null,
   "metadata": {},
   "outputs": [],
   "source": [
    "import tensorflow as tf\n",
    "import cv2\n",
    "import os\n",
    "\n",
    "from keras.utils import load_img, img_to_array\n",
    "import numpy as np\n",
    "\n",
    "IMAGE_SIZE = 224\n",
    "\n",
    "# Get the classes names\n",
    "path_to_dataset = \"INSERT OWN PATH\"\n",
    "train_path = path_to_dataset +\"/train\"\n",
    "test_path = path_to_dataset + \"/test\"\n",
    "valid_path = path_to_dataset + \"/valid\"\n",
    "\n",
    "CLASSES = len(os.listdir(train_path))\n",
    "no_of_classes = len(CLASSES)\n",
    "print(\"No. of Classes: \" + str(no_of_classes))\n",
    "\n",
    "best_model_file = \"insert chosen filepath\"\n",
    "model = tf.keras.models.load_model(best_model_file)\n",
    "\n",
    "print(model.summary())\n",
    "\n",
    "def prepareImage(pathForImage) :\n",
    "    image = load_img(pathForImage, target_size=(IMAGE_SIZE, IMAGE_SIZE))\n",
    "    imgResult = img_to_array(image)\n",
    "    imgResult = np.expand_dims(imgResult, axis = 0)\n",
    "    imgResult = imgResult / 255.\n",
    "    return imgResult\n",
    "\n",
    "# get test image\n",
    "test_image_path = test_path + \"/INSERT FILE PATH\"\n",
    "\n",
    "img = cv2.imread(test_image_path)\n",
    "imgForModel = prepareImage(test_image_path)\n",
    "resultArray = model.predict(imgForModel, verbose=1)\n",
    "answer = np.argmax(resultArray, axis=1)\n",
    "\n",
    "print(answer)\n",
    "index = answer[0]\n",
    "\n",
    "print(\"The predicted class is: \" + CLASSES[index])\n",
    "\n",
    "cv2.putText(img, CLASSES[index], (10,20), cv2.FONT_HERSHEY_SIMPLEX, 0.5, (255,0,0), 1, cv2.LINE_AA)\n",
    "cv2.imshow(\"img\", img)\n",
    "cv2.waitKey(0)"
   ]
  }
 ],
 "metadata": {
  "kernelspec": {
   "display_name": "base",
   "language": "python",
   "name": "python3"
  },
  "language_info": {
   "name": "python",
   "version": "3.11.5"
  }
 },
 "nbformat": 4,
 "nbformat_minor": 2
}
